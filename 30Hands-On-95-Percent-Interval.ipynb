{
 "cells": [
  {
   "cell_type": "markdown",
   "id": "biblical-spirituality",
   "metadata": {},
   "source": [
    "# 30.  Hands-On Learning Activity (Link # 9, Page 10)  Jupyter Notebook"
   ]
  },
  {
   "cell_type": "markdown",
   "id": "photographic-progressive",
   "metadata": {},
   "source": [
    "# Introduction to Data Visualization using a Jupyter notebook\n",
    "\n",
    "This Notebook is designed to provide a bird's eye view of some `Data Analysis packages.` The goal is not to give an in-depth explanation of each package's features but rather demonstrate the purpose of a few used Data Analysis packages. For more details, we refer the reader to the packages' documentation and other online tutorials."
   ]
  },
  {
   "cell_type": "markdown",
   "id": "finnish-burke",
   "metadata": {},
   "source": [
    "## Jupyter\n",
    "\n",
    "[Jupyter](https://jupyter.org) is not strictly speaking an `ML package.` It provides a browser front-end connected to an instance of `IPython` which allows REPL for quick testing, allows to create documents that intertwines code, output, images, and text. This is great for demonstrations and tutorials."
   ]
  },
  {
   "cell_type": "markdown",
   "id": "completed-graphic",
   "metadata": {},
   "source": [
    "## Pandas\n",
    "\n",
    "[Pandas](http://pandas.pydata.org) is a library that provides a set of tools for data analysis (Python Data Analysis Library). \n",
    "\n",
    "`Pandas dataframes` can be created by importing a CSV file (or TSV, or JSON, or SQL, etc.)"
   ]
  },
  {
   "cell_type": "code",
   "execution_count": 8,
   "id": "liberal-agent",
   "metadata": {},
   "outputs": [],
   "source": [
    "import numpy as np\n",
    "from scipy.optimize import curve_fit\n",
    "import matplotlib.pyplot as plt    \n",
    "from scipy import stats\n",
    "import pandas as pd\n",
    "import uncertainties.unumpy as unp\n",
    "import uncertainties as unc\n",
    "from matplotlib import style"
   ]
  },
  {
   "cell_type": "markdown",
   "id": "designing-atlanta",
   "metadata": {},
   "source": [
    "##  Reading data\n",
    "[Importing-Data-with-read-csv](https://www.datacamp.com/community/tutorials/pandas-read-csv) Pandas Tutorial: Importing Data with read_csv\n"
   ]
  },
  {
   "cell_type": "code",
   "execution_count": 9,
   "id": "systematic-reserve",
   "metadata": {},
   "outputs": [],
   "source": [
    "# Reading data from a text file (tab-delimited)\n",
    "# data = pd.read_csv('c:/SAT-vs-University-GPA.txt',  sep='\\t') Your data file located in a specific place\n",
    "data = pd.read_csv('SAT-vs-University-GPA.txt',  sep='\\t') # Your data file on the Jupyter notebook working directory\n",
    "\n",
    "# Give name to your variables\n",
    "data.columns=['high_GPA','math_SAT','verb_SAT','comp_GPA','univ_GPA']\n",
    "\n",
    "# defining the variables \n",
    "x = data['comp_GPA'].values   # Variable x has the values of composite GPA\n",
    "y = data['univ_GPA'].values   # Variable y has the values of university GPA\n",
    "\n",
    "n = len(y)        #  Data sample size \n",
    "max_x = max(x)    # The maximum value of composite GPA\n",
    "min_x = min(x)    # The minimum value of composite GPA"
   ]
  },
  {
   "cell_type": "markdown",
   "id": "billion-webster",
   "metadata": {},
   "source": [
    "##  From scipy.optimize  using the curve_fit method\n",
    "* `SciPy optimize`provides functions for minimizing (or maximizing) objective functions.\n",
    "* It includes solvers for nonlinear problems, linear programing, root finding, and `curve fitting`.\n",
    "* `Curve fitting` finds an optimal `set of parameters` for a defined function that best fits a given set of observations.\n",
    "* Follow link to see curve_fit and pcov details.\n",
    "[pcov-is-the-covariance-matrix](https://stackoverflow.com/questions/51059863/why-pcov-in-optimize-curve-fit-is-a-two-by-two-matrix-and-which-value-correspond)\n"
   ]
  },
  {
   "cell_type": "code",
   "execution_count": 10,
   "id": "theoretical-effectiveness",
   "metadata": {},
   "outputs": [],
   "source": [
    "def f(x, a, b):                   # linear regression\n",
    "    return a * x + b\n",
    "\n",
    "popt, pcov = curve_fit(f, x, y)   #  from scipy.optimize import curve_fit  \n",
    "                                  #  pcov is the covariance matrix of the estimated parameters.  \n",
    "    \n",
    "    \n",
    "# see the parameter values\n",
    "a = popt[0]  # coefficient value   0.8249459715944423\n",
    "b = popt[1]  # constant value      0.5924261433558689\n"
   ]
  },
  {
   "cell_type": "markdown",
   "id": "pretty-element",
   "metadata": {},
   "source": [
    "## Numpy\n",
    "\n",
    "[Numpy](http://www.numpy.org) is desiged to handle large multidimensional arrays and enable efficient computations with them. In the back, it runs pre-compiled C code which is much faster than, say, a Python `for` loop"
   ]
  },
  {
   "cell_type": "markdown",
   "id": "loaded-electron",
   "metadata": {},
   "source": [
    "## Calculate regression\n",
    "* The `NumPy linspace function` (sometimes called `np.linspace`) is a tool in `Python` for creating numeric sequences.\n",
    "* It's somewhat similar to the `NumPy arange function`.\n",
    "* it creates sequences of evenly spaced numbers structured as a `NumPy array`."
   ]
  },
  {
   "cell_type": "markdown",
   "id": "silent-czech",
   "metadata": {},
   "source": [
    "## import uncertainties.unumpy as unp\n",
    "* This package contains: Utilities that help with the creation and manipulation of NumPy arrays and matrices of numbers with uncertainties\n",
    "* Follow link to see details.\n",
    "[The-unumpy-package](https://pythonhosted.org/uncertainties/numpy_guide.html)\n"
   ]
  },
  {
   "cell_type": "code",
   "execution_count": 15,
   "id": "cloudy-footwear",
   "metadata": {},
   "outputs": [],
   "source": [
    "# calculate regression \n",
    "px = np.linspace(min_x, max_x, n) # REMEMBER:  Parameter_1:  min_x = min(x) P_2: max_x = max(x) P_3: n = len(y)   \n",
    "py = a*px+b\n",
    "nom = unp.nominal_values(py)"
   ]
  },
  {
   "cell_type": "markdown",
   "id": "premier-burlington",
   "metadata": {},
   "source": [
    "## predband() method\n",
    "* `predband()` Calculates Upper & lower prediction bands `95% confidence interval` "
   ]
  },
  {
   "cell_type": "code",
   "execution_count": 12,
   "id": "daily-destruction",
   "metadata": {},
   "outputs": [],
   "source": [
    "def predband(x, xd, yd, p, func, conf=0.95):   # define a function by using the command \" def func1():\"\n",
    "    \"\"\"\n",
    "    Takes Arguments and returns upper & lower prediction bands\n",
    "    Arg:\n",
    "    x  = requested points\n",
    "    xd = x data\n",
    "    yd = y data\n",
    "    p  = parameters\n",
    "    func = function name\n",
    "    Returns (in this order):\n",
    "    lpb = lower prediction bands\n",
    "    upb = upper prediction bands\n",
    "   \n",
    "   \"\"\"\n",
    "    alpha = 1.0 - conf    # significance          alpha = 0.05\n",
    "    N = xd.size           # data sample size          N = 105   \n",
    "    var_n = len(p)        # number of parameters  var_n = 2\n",
    "    \n",
    "    q = stats.t.ppf(1.0 - alpha / 2.0, N - var_n)     # Quantile of Student's t distribution for p=(1-alpha/2) = 0.975\n",
    "                                                      # N - var_n = 105 - 2 = 103\n",
    "    se = np.sqrt(1. / (N - var_n) * \\\n",
    "                 np.sum((yd - func(xd, *p)) ** 2))    # Stdev of an individual measurement\n",
    "    \n",
    "    sx = (x - xd.mean()) ** 2             # Auxiliary definitions\n",
    "    sxd = np.sum((xd - xd.mean()) ** 2)   # Auxiliary definitions\n",
    "    \n",
    "    yp = func(x, *p)  # Predicted values (best-fit model) p = popt = {a = popt[0] AND b = popt[1]}\n",
    "    \n",
    "    dy = q * se * np.sqrt(1.0+ (1.0/N) + (sx/sxd))  # Prediction band\n",
    "    \n",
    "    lpb, upb = yp - dy, yp + dy   # Upper & lower prediction bands.\n",
    "    \n",
    "    return lpb, upb\n"
   ]
  },
  {
   "cell_type": "markdown",
   "id": "stunning-marathon",
   "metadata": {},
   "source": [
    "## Get Upper & lower prediction bands"
   ]
  },
  {
   "cell_type": "code",
   "execution_count": 13,
   "id": "dramatic-poland",
   "metadata": {},
   "outputs": [],
   "source": [
    "lpb, upb = predband(px, x, y, popt, f, conf=0.95)  # call a function. The program will execute that function.\n",
    "                                                   # px = np.linspace(min_x, max_x, n)\n",
    "                                                   # x = data['comp_GPA'].values\n",
    "                                                   # y = data['univ_GPA'].values\n",
    "                                                   # popt, pcov = curve_fit(f, x, y)\n",
    "                                                   # a = popt[0]  # coefficient value   0.8249459715944423\n",
    "                                                   # b = popt[1]  # constant value   0.5924261433558689\n",
    "                                                   # def f(x, a, b):  return a * x + b        --> linear regression\n",
    "                                                   "
   ]
  },
  {
   "cell_type": "markdown",
   "id": "excess-playback",
   "metadata": {},
   "source": [
    "##  Display 95% confidence interval"
   ]
  },
  {
   "cell_type": "markdown",
   "id": "funded-argument",
   "metadata": {},
   "source": [
    "## Matplotlib\n",
    "\n",
    "[Matplotlib](https://matplotlib.org) is the go-to library to produce plots with Python. It comes with two APIs: a MATLAB-like, and an object-oriented API."
   ]
  },
  {
   "cell_type": "markdown",
   "id": "expired-coach",
   "metadata": {},
   "source": [
    "## Matplotlib.pyplot.plot\n",
    "\n",
    "[Matplotlib.pyplot.plot](https://matplotlib.org/3.3.4/api/_as_gen/matplotlib.pyplot.plot.html) Plot y versus x as lines and/or markers.\n"
   ]
  },
  {
   "cell_type": "code",
   "execution_count": 14,
   "id": "graphic-trauma",
   "metadata": {},
   "outputs": [
    {
     "data": {
      "image/png": "[encoded data removed]",
      "text/plain": [
       "<Figure size 720x432 with 1 Axes>"
      ]
     },
     "metadata": {},
     "output_type": "display_data"
    }
   ],
   "source": [
    "style.use('ggplot')       #  from matplotlib import style\n",
    "                          #  ggplot style, adjusts the style to emulate ggplot (a plotting package for R)\n",
    "\n",
    "fig = plt.figure(figsize=(10, 6))       # USING: import matplotlib.pyplot as plt\n",
    "plt.title('95% confidence interval')\n",
    "\n",
    "                          # import matplotlib.pyplot as plt\n",
    "plt.xlabel(\"comp_GPA\")    # Pyplot is a group of functions in the visualization package Matplotlib     \n",
    "plt.ylabel(\"univ_GPA\")    # Its functions manipulate elements of a figure, such as creating a model\n",
    "                          # creating a plotting area, plotting lines, adding plot labels, etc.\n",
    "\n",
    "plt.plot(px, lpb, 'k--',label='Prediction Band')  # See link Matplotlib.pyplot.plot for Format Strings\n",
    "plt.plot(px, upb, 'k--')                          # Matplotlib.pyplot.plot [Plot y versus x as lines and/or markers]\n",
    "\n",
    "plt.scatter(x,y, color='#0acd54',label='actual data')\n",
    "plt.plot(px, nom, c='red', label='regression line (fitted)')\n",
    "\n",
    "# Display 95% confidence interval\n",
    "\n",
    "plt.legend(loc=\"upper left\")\n",
    "plt.show()"
   ]
  },
  {
   "cell_type": "markdown",
   "id": "vulnerable-daughter",
   "metadata": {},
   "source": [
    "## Look at the similarity of this graph with the GRETL graph.  See (Link # 9, Page # 10\n",
    "![title](http://www.mikojulj4.com/mab_usb/CH01/rbc5.gif)"
   ]
  }
 ],
 "metadata": {
  "kernelspec": {
   "display_name": "Python 3",
   "language": "python",
   "name": "python3"
  },
  "language_info": {
   "codemirror_mode": {
    "name": "ipython",
    "version": 3
   },
   "file_extension": ".py",
   "mimetype": "text/x-python",
   "name": "python",
   "nbconvert_exporter": "python",
   "pygments_lexer": "ipython3",
   "version": "3.7.4"
  }
 },
 "nbformat": 4,
 "nbformat_minor": 5
}
