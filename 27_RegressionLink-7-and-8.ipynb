{
 "cells": [
  {
   "cell_type": "markdown",
   "id": "artistic-replication",
   "metadata": {},
   "source": [
    "# 27.  Regression (Links # 7 and # 8) Done With Jupyter Notebook\n"
   ]
  },
  {
   "cell_type": "markdown",
   "id": "found-green",
   "metadata": {},
   "source": [
    "# Introduction to Data Visualization using a Jupyter notebook\n",
    "\n",
    "This Notebook is designed to provide a bird's eye view of some `Data Analysis packages.` The goal is not to give an in-depth explanation of each package's features but rather demonstrate the purpose of a few used Data Analysis packages. For more details, we refer the reader to the packages' documentation and other online tutorials."
   ]
  },
  {
   "cell_type": "markdown",
   "id": "average-rider",
   "metadata": {},
   "source": [
    "## Jupyter\n",
    "\n",
    "[Jupyter](https://jupyter.org) is not strictly speaking an `ML package.` It provides a browser front-end connected to an instance of `IPython` which allows REPL for quick testing, allows to create documents that intertwines code, output, images, and text. This is great for demonstrations and tutorials.\n"
   ]
  },
  {
   "cell_type": "markdown",
   "id": "oriented-malawi",
   "metadata": {},
   "source": [
    "## Pandas\n",
    "\n",
    "[Pandas](http://pandas.pydata.org) is a library that provides a set of tools for data analysis (Python Data Analysis Library). \n",
    "\n",
    "`Pandas dataframes` can be created by importing a CSV file (or TSV, or JSON, or SQL, etc.)"
   ]
  },
  {
   "cell_type": "code",
   "execution_count": 1,
   "id": "alpine-salvation",
   "metadata": {},
   "outputs": [],
   "source": [
    "import statsmodels.api as sm \n",
    "import pandas as pd \n",
    "import matplotlib.pyplot as plt \n",
    "import numpy as np \n",
    "from statistics import mean\n",
    "from matplotlib import style\n",
    "\n",
    "# reading data from the csv\n",
    "# data = pd.read_csv('c:/P12-SalaryData.csv')    Your data file located in a specific place\n",
    "data = pd.read_csv('P12-SalaryData.csv')    # Your data file on the Jupyter notebook working directory "
   ]
  },
  {
   "cell_type": "markdown",
   "id": "smooth-august",
   "metadata": {},
   "source": [
    "# Always check your data"
   ]
  },
  {
   "cell_type": "code",
   "execution_count": 2,
   "id": "indirect-table",
   "metadata": {},
   "outputs": [
    {
     "name": "stdout",
     "output_type": "stream",
     "text": [
      "Data Read     YearsExperience  Salary\n",
      "0               1.1   39343\n",
      "1               1.3   46205\n",
      "2               1.5   37731\n",
      "3               2.0   43525\n",
      "4               2.2   39891\n",
      "5               2.9   56642\n",
      "6               3.0   60150\n",
      "7               3.2   54445\n",
      "8               3.2   64445\n",
      "9               3.7   57189\n",
      "10              3.9   63218\n",
      "11              4.0   55794\n",
      "12              4.0   56957\n",
      "13              4.1   57081\n",
      "14              4.5   61111\n",
      "15              4.9   67938\n",
      "16              5.1   66029\n",
      "17              5.3   83088\n",
      "18              5.9   81363\n",
      "19              6.0   93940\n",
      "20              6.8   91738\n",
      "21              7.1   98273\n",
      "22              7.9  101302\n",
      "23              8.2  113812\n",
      "24              8.7  109431\n",
      "25              9.0  105582\n",
      "26              9.5  116969\n",
      "27              9.6  112635\n",
      "28             10.3  122391\n",
      "29             10.5  121872\n"
     ]
    }
   ],
   "source": [
    "print(\"Data Read\", data)"
   ]
  },
  {
   "cell_type": "markdown",
   "id": "crude-subcommittee",
   "metadata": {},
   "source": [
    "## Statsmodels\n",
    "\n",
    "[statsmodels](https://www.statsmodels.org/stable/index.html)  is a `Python` module that provides classes and functions for the estimation of many different `statistical models`, as well as for conducting statistical tests, and statistical data exploration."
   ]
  },
  {
   "cell_type": "markdown",
   "id": "pressing-treaty",
   "metadata": {},
   "source": [
    "## Numpy\n",
    "\n",
    "[Numpy](http://www.numpy.org) is desiged to handle large multidimensional arrays and enable efficient computations with them. In the back, it runs pre-compiled C code which is much faster than, say, a Python `for` loop"
   ]
  },
  {
   "cell_type": "code",
   "execution_count": 3,
   "id": "dominican-doubt",
   "metadata": {},
   "outputs": [],
   "source": [
    "# defining the variables \n",
    "x = data['YearsExperience'].tolist() \n",
    "y = data['Salary'].tolist() \n",
    "\n",
    "# A numpy array\n",
    "xs = np.array(x) \n",
    "ys = np.array(y)  \n",
    "\n",
    "# adding the constant term \n",
    "x = sm.add_constant(x) \n",
    "\n",
    "# performing the regression \n",
    "# and fitting the model \n",
    "result = sm.OLS(y, x).fit() "
   ]
  },
  {
   "cell_type": "markdown",
   "id": "wound-stopping",
   "metadata": {},
   "source": [
    "# Summary table (OLS regression) \n",
    "\n",
    "* See the similarity `of the values with the GRETL  OLS Model (values)` Link # 7, Page # 4\n",
    "  \n",
    "![title](http://www.mikojulj4.com/mab_usb/CH01/rbc1.gif)"
   ]
  },
  {
   "cell_type": "code",
   "execution_count": 4,
   "id": "vulnerable-participant",
   "metadata": {},
   "outputs": [
    {
     "name": "stdout",
     "output_type": "stream",
     "text": [
      "                            OLS Regression Results                            \n",
      "==============================================================================\n",
      "Dep. Variable:                      y   R-squared:                       0.957\n",
      "Model:                            OLS   Adj. R-squared:                  0.955\n",
      "Method:                 Least Squares   F-statistic:                     622.5\n",
      "Date:                Tue, 16 Feb 2021   Prob (F-statistic):           1.14e-20\n",
      "Time:                        16:40:46   Log-Likelihood:                -301.44\n",
      "No. Observations:                  30   AIC:                             606.9\n",
      "Df Residuals:                      28   BIC:                             609.7\n",
      "Df Model:                           1                                         \n",
      "Covariance Type:            nonrobust                                         \n",
      "==============================================================================\n",
      "                 coef    std err          t      P>|t|      [0.025      0.975]\n",
      "------------------------------------------------------------------------------\n",
      "const       2.579e+04   2273.053     11.347      0.000    2.11e+04    3.04e+04\n",
      "x1          9449.9623    378.755     24.950      0.000    8674.119    1.02e+04\n",
      "==============================================================================\n",
      "Omnibus:                        2.140   Durbin-Watson:                   1.648\n",
      "Prob(Omnibus):                  0.343   Jarque-Bera (JB):                1.569\n",
      "Skew:                           0.363   Prob(JB):                        0.456\n",
      "Kurtosis:                       2.147   Cond. No.                         13.2\n",
      "==============================================================================\n",
      "\n",
      "Notes:\n",
      "[1] Standard Errors assume that the covariance matrix of the errors is correctly specified.\n"
     ]
    }
   ],
   "source": [
    "# printing the summary table \n",
    "print(result.summary()) "
   ]
  },
  {
   "cell_type": "markdown",
   "id": "fantastic-mountain",
   "metadata": {
    "variables": {
     " result.params[0]  ": "25792.200198668696",
     " result.params[1]  ": "9449.962321455074"
    }
   },
   "source": [
    "\n",
    "# Regression Line:    y =  b  +  m * x \n",
    "\n",
    "* Variable `result`  has all the summary values\n",
    "* `b = result.params[0] =` {{ result.params[0]  }}  And `m = result.params[1]  =` {{ result.params[1]  }}\n",
    "* Furthermore, (below) we are going to calculate `b` and `m` again\n"
   ]
  },
  {
   "cell_type": "code",
   "execution_count": 5,
   "id": "naval-picnic",
   "metadata": {},
   "outputs": [],
   "source": [
    "def best_fit_slope_and_intercept(xs,ys):\n",
    "    m = (((mean(xs)*mean(ys)) - mean(xs*ys)) /\n",
    "         ((mean(xs)*mean(xs)) - mean(xs*xs)))\n",
    "    \n",
    "    b = mean(ys) - m*mean(xs)\n",
    "    \n",
    "    return m, b\n",
    "\n",
    "m, b = best_fit_slope_and_intercept(xs,ys)"
   ]
  },
  {
   "cell_type": "markdown",
   "id": "ordered-median",
   "metadata": {
    "variables": {
     " b ": "25792.200198668666",
     " m ": "9449.962321455081",
     " result.params[0]  ": "25792.200198668696",
     " result.params[1]  ": "9449.962321455074"
    }
   },
   "source": [
    "\n",
    "* `best_fit_slope_and_intercept()`  returns   m =  {{ m }}  and b = {{ b }} \n",
    "* `b = result.params[0] =` {{ result.params[0]  }}  And `m = result.params[1]  =` {{ result.params[1]  }}\n",
    "* Compare the values of  `m` And `b` they are very close.  Yet, they are not the same.\n"
   ]
  },
  {
   "cell_type": "code",
   "execution_count": 6,
   "id": "reserved-tract",
   "metadata": {},
   "outputs": [],
   "source": [
    "# regression line is  y=mx+b. \n",
    "regression_line = []\n",
    "for x in xs:\n",
    "    regression_line.append((m*x)+b)"
   ]
  },
  {
   "cell_type": "markdown",
   "id": "beautiful-senator",
   "metadata": {},
   "source": [
    "# Display Actual and fitted Salary versus YearsExperience"
   ]
  },
  {
   "cell_type": "markdown",
   "id": "suspected-candidate",
   "metadata": {},
   "source": [
    "## Matplotlib\n",
    "\n",
    "[Matplotlib](https://matplotlib.org) is the go-to library to produce plots with Python. It comes with two APIs: a MATLAB-like, and an object-oriented API."
   ]
  },
  {
   "cell_type": "code",
   "execution_count": 7,
   "id": "lesser-doubt",
   "metadata": {},
   "outputs": [
    {
     "data": {
      "image/png": "[encoded data removed]",
      "text/plain": [
       "<Figure size 720x432 with 1 Axes>"
      ]
     },
     "metadata": {},
     "output_type": "display_data"
    }
   ],
   "source": [
    "style.use('ggplot')\n",
    "\n",
    "fig = plt.figure(figsize=(10, 6))\n",
    "\n",
    "plt.title('Actual and fitted Salary versus YearsExperience')\n",
    "\n",
    "plt.xlabel(\"YearsExperience\")\n",
    "plt.ylabel(\"Salary\")\n",
    "\n",
    "plt.plot(xs, regression_line, label='regression line (fitted)')\n",
    "plt.scatter(xs,ys,color='#003F72',label='actual data')\n",
    "\n",
    "plt.legend(loc=\"upper left\")\n",
    "\n",
    "# Display Actual and fitted Salary versus YearsExperience\n",
    "plt.show()"
   ]
  },
  {
   "cell_type": "markdown",
   "id": "registered-identifier",
   "metadata": {},
   "source": [
    "## Look at the similarity of this graph with the GRETL graph.  See (Link # 8, Page # 2)\n",
    "![title](http://www.mikojulj4.com/mab_usb/CH01/rbc2.gif)"
   ]
  }
 ],
 "metadata": {
  "kernelspec": {
   "display_name": "Python 3",
   "language": "python",
   "name": "python3"
  },
  "language_info": {
   "codemirror_mode": {
    "name": "ipython",
    "version": 3
   },
   "file_extension": ".py",
   "mimetype": "text/x-python",
   "name": "python",
   "nbconvert_exporter": "python",
   "pygments_lexer": "ipython3",
   "version": "3.7.4"
  }
 },
 "nbformat": 4,
 "nbformat_minor": 5
}
