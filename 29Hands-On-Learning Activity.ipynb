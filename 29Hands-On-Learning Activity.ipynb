{
 "cells": [
  {
   "cell_type": "markdown",
   "id": "artistic-replication",
   "metadata": {},
   "source": [
    "# 29. Hands-On Learning Activity (Link # 9) Done With Jupyter Notebook\n"
   ]
  },
  {
   "cell_type": "markdown",
   "id": "pending-harbor",
   "metadata": {},
   "source": [
    "# Introduction to Data Visualization using a Jupyter notebook\n",
    "\n",
    "This Notebook is designed to provide a bird's eye view of some `Data Analysis packages.` The goal is not to give an in-depth explanation of each package's features but rather demonstrate the purpose of a few used Data Analysis packages. For more details, we refer the reader to the packages' documentation and other online tutorials."
   ]
  },
  {
   "cell_type": "markdown",
   "id": "sunset-oracle",
   "metadata": {},
   "source": [
    "## Jupyter\n",
    "\n",
    "[Jupyter](https://jupyter.org) is not strictly speaking an `ML package.` It provides a browser front-end connected to an instance of `IPython` which allows REPL for quick testing, allows to create documents that intertwines code, output, images, and text. This is great for demonstrations and tutorials."
   ]
  },
  {
   "cell_type": "markdown",
   "id": "radical-recall",
   "metadata": {},
   "source": [
    "## Pandas\n",
    "\n",
    "[Pandas](http://pandas.pydata.org) is a library that provides a set of tools for data analysis (Python Data Analysis Library). \n",
    "\n",
    "`Pandas dataframes` can be created by importing a CSV file (or TSV, or JSON, or SQL, etc.)"
   ]
  },
  {
   "cell_type": "code",
   "execution_count": 28,
   "id": "alpine-salvation",
   "metadata": {},
   "outputs": [],
   "source": [
    "import statsmodels.api as sm \n",
    "import pandas as pd \n",
    "import matplotlib.pyplot as plt \n",
    "import numpy as np \n",
    "from statistics import mean\n",
    "from matplotlib import style\n",
    "\n",
    "# Reading data from a text file (tab-delimited)\n",
    "data = pd.read_csv('c:/SAT-vs-University-GPA.txt',  sep='\\t') \n",
    "\n",
    "# Give name to your variables\n",
    "data.columns=['high_GPA','math_SAT','verb_SAT','comp_GPA','univ_GPA']"
   ]
  },
  {
   "cell_type": "markdown",
   "id": "smooth-august",
   "metadata": {},
   "source": [
    "# Always check your data"
   ]
  },
  {
   "cell_type": "code",
   "execution_count": 29,
   "id": "indirect-table",
   "metadata": {},
   "outputs": [
    {
     "name": "stdout",
     "output_type": "stream",
     "text": [
      "Data Read      high_GPA  math_SAT  verb_SAT  comp_GPA  univ_GPA\n",
      "0        3.45       643       589      3.76      3.52\n",
      "1        2.78       558       512      2.87      2.91\n",
      "2        2.52       583       503      2.54      2.40\n",
      "3        3.67       685       602      3.83      3.47\n",
      "4        3.24       592       538      3.29      3.47\n",
      "..        ...       ...       ...       ...       ...\n",
      "100      3.76       605       590      3.74      3.64\n",
      "101      3.49       692       683      3.27      3.42\n",
      "102      3.07       680       692      3.19      3.25\n",
      "103      2.19       617       503      2.98      2.76\n",
      "104      3.46       516       528      3.28      3.41\n",
      "\n",
      "[105 rows x 5 columns]\n"
     ]
    }
   ],
   "source": [
    "print(\"Data Read\", data)"
   ]
  },
  {
   "cell_type": "markdown",
   "id": "controlled-inspiration",
   "metadata": {},
   "source": [
    "## Statsmodels\n",
    "\n",
    "[statsmodels](https://www.statsmodels.org/stable/index.html)  is a `Python` module that provides classes and functions for the estimation of many different `statistical models`, as well as for conducting statistical tests, and statistical data exploration.\n",
    "### Ordinary Least Squares\n",
    "[OrdinaryLeastSquares](https://www.statsmodels.org/dev/examples/notebooks/generated/ols.html) estimates the parameters in a regression model by minimizing the sum of the squared residuals. \n"
   ]
  },
  {
   "cell_type": "markdown",
   "id": "unlike-motivation",
   "metadata": {},
   "source": [
    "## Numpy\n",
    "\n",
    "[Numpy](http://www.numpy.org) is desiged to handle large multidimensional arrays and enable efficient computations with them. In the back, it runs pre-compiled C code which is much faster than, say, a Python `for` loop"
   ]
  },
  {
   "cell_type": "code",
   "execution_count": 30,
   "id": "dominican-doubt",
   "metadata": {},
   "outputs": [],
   "source": [
    "# defining the variables \n",
    "x = data['comp_GPA'].tolist() # Pandas tolist() is used to convert a series to list\n",
    "y = data['univ_GPA'].tolist() \n",
    "\n",
    "# A numpy array is a central data structure of the NumPy library. \n",
    "# The elements are all of the same type, referred to as the array dtype.\n",
    "xs = np.array(x) # NumPy arrays are faster and more compact than Python lists.\n",
    "ys = np.array(y)  \n",
    "\n",
    "# adding the constant term (Our model needs an intercept so we add a column of 1s:)\n",
    "x = sm.add_constant(x) \n",
    "\n",
    "# performing the regression    model  = sm.OLS(y,x)      \n",
    "# and fitting the model        result = model.fit()      \n",
    "result = sm.OLS(y, x).fit()"
   ]
  },
  {
   "cell_type": "markdown",
   "id": "wound-stopping",
   "metadata": {},
   "source": [
    "# Summary table (OLS regression) \n",
    "\n",
    "* See the similarity `of the values with the GRETL  OLS Model (values)` Link # 9, Page # 7\n",
    "  \n",
    "![title](http://www.mikojulj4.com/mab_usb/CH01/rbc3.gif)"
   ]
  },
  {
   "cell_type": "code",
   "execution_count": 31,
   "id": "vulnerable-participant",
   "metadata": {},
   "outputs": [
    {
     "name": "stdout",
     "output_type": "stream",
     "text": [
      "                            OLS Regression Results                            \n",
      "==============================================================================\n",
      "Dep. Variable:                      y   R-squared:                       0.882\n",
      "Model:                            OLS   Adj. R-squared:                  0.881\n",
      "Method:                 Least Squares   F-statistic:                     768.5\n",
      "Date:                Mon, 15 Feb 2021   Prob (F-statistic):           1.44e-49\n",
      "Time:                        22:46:04   Log-Likelihood:                 48.125\n",
      "No. Observations:                 105   AIC:                            -92.25\n",
      "Df Residuals:                     103   BIC:                            -86.94\n",
      "Df Model:                           1                                         \n",
      "Covariance Type:            nonrobust                                         \n",
      "==============================================================================\n",
      "                 coef    std err          t      P>|t|      [0.025      0.975]\n",
      "------------------------------------------------------------------------------\n",
      "const          0.5924      0.094      6.282      0.000       0.405       0.779\n",
      "x1             0.8249      0.030     27.721      0.000       0.766       0.884\n",
      "==============================================================================\n",
      "Omnibus:                        7.781   Durbin-Watson:                   1.725\n",
      "Prob(Omnibus):                  0.020   Jarque-Bera (JB):                7.774\n",
      "Skew:                          -0.514   Prob(JB):                       0.0205\n",
      "Kurtosis:                       3.849   Cond. No.                         21.7\n",
      "==============================================================================\n",
      "\n",
      "Notes:\n",
      "[1] Standard Errors assume that the covariance matrix of the errors is correctly specified.\n"
     ]
    }
   ],
   "source": [
    "# printing the summary table \n",
    "print(result.summary()) "
   ]
  },
  {
   "cell_type": "markdown",
   "id": "fantastic-mountain",
   "metadata": {
    "variables": {
     " result.params[0]  ": "0.5924261406188656",
     " result.params[1]  ": "0.8249459725825701"
    }
   },
   "source": [
    "\n",
    "# Regression Line:    y =  b  +  m * x \n",
    "\n",
    "* Variable `result`  has all the summary values\n",
    "* `b = result.params[0] =` {{ result.params[0]  }}  And `m = result.params[1]  =` {{ result.params[1]  }}\n",
    "* Furthermore, (below) we are going to calculate `b` and `m` again.\n",
    "* Calculate the slope and intercept of a regression line. [calculate-the-slope-and-intercept](https://socratic.org/questions/how-do-you-calculate-the-slope-and-intercept-of-a-regression-line#282592)  \n"
   ]
  },
  {
   "cell_type": "code",
   "execution_count": 32,
   "id": "naval-picnic",
   "metadata": {},
   "outputs": [],
   "source": [
    "def best_fit_slope_and_intercept(xs,ys):   # define a function by using the command \" def func1():\"\n",
    "            \"\"\"\n",
    "            Takes two Numpy arrays and returns the slope, and the y-intercept of a regression line.\n",
    "        \n",
    "            Arg:\n",
    "            xs - a Numpy array\n",
    "            ys - a Numpy array\n",
    "            Returns (in this order):\n",
    "            m - the slope.\n",
    "            b - y-intercept.\n",
    "            \"\"\"\n",
    "            m = (((mean(xs)*mean(ys)) - mean(xs*ys)) /  #  from statistics import mean\n",
    "            ((mean(xs)*mean(xs)) - mean(xs*xs))) \n",
    "                                                \n",
    "            b = mean(ys) - m*mean(xs)  #  statistics module comes with functions like mean(), mode().\n",
    "    \n",
    "            return m, b\n",
    "\n",
    "m, b = best_fit_slope_and_intercept(xs,ys) # call a function. The program will execute that function."
   ]
  },
  {
   "cell_type": "markdown",
   "id": "ordered-median",
   "metadata": {
    "variables": {
     " b ": "0.5924261406188527",
     " m ": "0.8249459725825736",
     " result.params[0]  ": "0.5924261406188656",
     " result.params[1]  ": "0.8249459725825701"
    }
   },
   "source": [
    "\n",
    "* `best_fit_slope_and_intercept()`  returns   m =  {{ m }}  and b = {{ b }} \n",
    "* `b = result.params[0] =` {{ result.params[0]  }}  And `m = result.params[1]  =` {{ result.params[1]  }}\n",
    "* Compare the values of  `m` And `b` they are very close.  Yet, they are not the same.\n"
   ]
  },
  {
   "cell_type": "code",
   "execution_count": 33,
   "id": "reserved-tract",
   "metadata": {},
   "outputs": [],
   "source": [
    "# regression line is  y=mx+b. \n",
    "regression_line = []\n",
    "for x in xs:        # The append() method in python adds a single item to the existing list\n",
    "    regression_line.append((m*x)+b) "
   ]
  },
  {
   "cell_type": "markdown",
   "id": "beautiful-senator",
   "metadata": {},
   "source": [
    "# Display Actual and fitted Salary versus YearsExperience"
   ]
  },
  {
   "cell_type": "markdown",
   "id": "competitive-mainland",
   "metadata": {},
   "source": [
    "## Matplotlib\n",
    "\n",
    "[Matplotlib](https://matplotlib.org) is the go-to library to produce plots with Python. It comes with two APIs: a MATLAB-like, and an object-oriented API."
   ]
  },
  {
   "cell_type": "code",
   "execution_count": 34,
   "id": "lesser-doubt",
   "metadata": {},
   "outputs": [
    {
     "data": {
      "image/png": "[encoded data removed]",
      "text/plain": [
       "<Figure size 720x432 with 1 Axes>"
      ]
     },
     "metadata": {},
     "output_type": "display_data"
    }
   ],
   "source": [
    "style.use('ggplot')   #  from matplotlib import style                                    \n",
    "                      #  ggplot style, adjusts the style to emulate ggplot (a plotting package for R)\n",
    "\n",
    "fig = plt.figure(figsize=(10, 6))                         \n",
    "plt.title('Actual and fitted univ_GPA versus comp_GPA')  # import matplotlib.pyplot as plt\n",
    "\n",
    "plt.xlabel(\"comp_GPA\")  # Pyplot is a group of functions in the visualization package Matplotlib\n",
    "plt.ylabel(\"univ_GPA\")  # Its functions manipulate elements of a figure, such as creating a model\n",
    "                        # creating a plotting area, plotting lines, adding plot labels, etc.\n",
    "    \n",
    "plt.plot(xs, regression_line, label='regression line (fitted)')\n",
    "plt.scatter(xs,ys,color='#003F72',label='actual data')\n",
    "\n",
    "plt.legend(loc=\"upper left\")\n",
    "\n",
    "plt.show()   # Display Actual and fitted univ_GPA versus comp_GPA"
   ]
  },
  {
   "cell_type": "markdown",
   "id": "registered-identifier",
   "metadata": {},
   "source": [
    "## Look at the similarity of this graph with the GRETL graph.  See (Link # 9, Page # 8)\n",
    "![title](http://www.mikojulj4.com/mab_usb/CH01/rbc4.gif)"
   ]
  }
 ],
 "metadata": {
  "kernelspec": {
   "display_name": "Python 3",
   "language": "python",
   "name": "python3"
  },
  "language_info": {
   "codemirror_mode": {
    "name": "ipython",
    "version": 3
   },
   "file_extension": ".py",
   "mimetype": "text/x-python",
   "name": "python",
   "nbconvert_exporter": "python",
   "pygments_lexer": "ipython3",
   "version": "3.7.4"
  }
 },
 "nbformat": 4,
 "nbformat_minor": 5
}
